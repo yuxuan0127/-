{
 "cells": [
  {
   "cell_type": "markdown",
   "metadata": {},
   "source": [
    "## Pandas Data Frame"
   ]
  },
  {
   "cell_type": "code",
   "execution_count": 1,
   "metadata": {},
   "outputs": [
    {
     "data": {
      "text/html": [
       "<div>\n",
       "<style scoped>\n",
       "    .dataframe tbody tr th:only-of-type {\n",
       "        vertical-align: middle;\n",
       "    }\n",
       "\n",
       "    .dataframe tbody tr th {\n",
       "        vertical-align: top;\n",
       "    }\n",
       "\n",
       "    .dataframe thead th {\n",
       "        text-align: right;\n",
       "    }\n",
       "</style>\n",
       "<table border=\"1\" class=\"dataframe\">\n",
       "  <thead>\n",
       "    <tr style=\"text-align: right;\">\n",
       "      <th></th>\n",
       "      <th>groups</th>\n",
       "      <th>ironmen</th>\n",
       "    </tr>\n",
       "  </thead>\n",
       "  <tbody>\n",
       "    <tr>\n",
       "      <td>0</td>\n",
       "      <td>Modern Web</td>\n",
       "      <td>59</td>\n",
       "    </tr>\n",
       "    <tr>\n",
       "      <td>1</td>\n",
       "      <td>DevOps</td>\n",
       "      <td>9</td>\n",
       "    </tr>\n",
       "    <tr>\n",
       "      <td>2</td>\n",
       "      <td>Cloud</td>\n",
       "      <td>19</td>\n",
       "    </tr>\n",
       "    <tr>\n",
       "      <td>3</td>\n",
       "      <td>Big Data</td>\n",
       "      <td>14</td>\n",
       "    </tr>\n",
       "    <tr>\n",
       "      <td>4</td>\n",
       "      <td>Security</td>\n",
       "      <td>6</td>\n",
       "    </tr>\n",
       "    <tr>\n",
       "      <td>5</td>\n",
       "      <td>自我挑戰組</td>\n",
       "      <td>77</td>\n",
       "    </tr>\n",
       "  </tbody>\n",
       "</table>\n",
       "</div>"
      ],
      "text/plain": [
       "       groups  ironmen\n",
       "0  Modern Web       59\n",
       "1      DevOps        9\n",
       "2       Cloud       19\n",
       "3    Big Data       14\n",
       "4    Security        6\n",
       "5       自我挑戰組       77"
      ]
     },
     "execution_count": 1,
     "metadata": {},
     "output_type": "execute_result"
    }
   ],
   "source": [
    "import pandas as pd\n",
    "\n",
    "groups = [\"Modern Web\", \"DevOps\", \"Cloud\", \"Big Data\", \"Security\", \"自我挑戰組\"]\n",
    "ironmen = [59, 9, 19, 14, 6, 77]\n",
    "ironmen_dict = {\n",
    "                \"groups\": groups,\n",
    "                \"ironmen\": ironmen\n",
    "}\n",
    "ironmen_df = pd.DataFrame(ironmen_dict)\n",
    "ironmen_df"
   ]
  },
  {
   "cell_type": "code",
   "execution_count": 2,
   "metadata": {},
   "outputs": [
    {
     "name": "stdout",
     "output_type": "stream",
     "text": [
      "2\n",
      "---\n",
      "(6, 2)\n",
      "---\n",
      "groups     object\n",
      "ironmen     int64\n",
      "dtype: object\n"
     ]
    }
   ],
   "source": [
    "print(ironmen_df.ndim)\n",
    "print(\"---\") # 分隔線\n",
    "print(ironmen_df.shape)\n",
    "print(\"---\") # 分隔線\n",
    "print(ironmen_df.dtypes)"
   ]
  },
  {
   "cell_type": "code",
   "execution_count": 3,
   "metadata": {},
   "outputs": [
    {
     "name": "stdout",
     "output_type": "stream",
     "text": [
      "groups     Modern WebDevOpsCloudBig DataSecurity自我挑戰組\n",
      "ironmen                                           184\n",
      "dtype: object\n",
      "ironmen    30.666667\n",
      "dtype: float64\n",
      "ironmen    16.5\n",
      "dtype: float64\n",
      "         ironmen\n",
      "count   6.000000\n",
      "mean   30.666667\n",
      "std    29.803803\n",
      "min     6.000000\n",
      "25%    10.250000\n",
      "50%    16.500000\n",
      "75%    49.000000\n",
      "max    77.000000\n"
     ]
    }
   ],
   "source": [
    "print(ironmen_df.sum()) # 計算總鐵人數\n",
    "print(ironmen_df.mean()) # 計算平均鐵人數\n",
    "print(ironmen_df.median()) # 計算中位數\n",
    "print(ironmen_df.describe()) # 描述統計"
   ]
  },
  {
   "cell_type": "code",
   "execution_count": 4,
   "metadata": {},
   "outputs": [
    {
     "name": "stdout",
     "output_type": "stream",
     "text": [
      "0    False\n",
      "1    False\n",
      "2     True\n",
      "3    False\n",
      "4    False\n",
      "5    False\n",
      "Name: groups, dtype: bool\n",
      "0     True\n",
      "1     True\n",
      "2     True\n",
      "3     True\n",
      "4     True\n",
      "5    False\n",
      "Name: ironmen, dtype: bool\n"
     ]
    }
   ],
   "source": [
    "import numpy as np\n",
    "import pandas as pd\n",
    "groups = [\"Modern Web\", \"DevOps\", np.nan, \"Big Data\", \"Security\", \"自我挑戰組\"]\n",
    "ironmen = [59, 9, 19, 14, 6, np.nan]\n",
    "ironmen_dict = {\n",
    "                \"groups\": groups,\n",
    "                \"ironmen\": ironmen\n",
    "}\n",
    "# 建立 data frame\n",
    "ironmen_df = pd.DataFrame(ironmen_dict)\n",
    "print(ironmen_df.loc[:, \"groups\"].isnull()) # 判斷哪些組的組名是遺失值\n",
    "print(ironmen_df.loc[:, \"ironmen\"].notnull()) # 判斷哪些組的鐵人數不是遺失值"
   ]
  },
  {
   "cell_type": "code",
   "execution_count": 5,
   "metadata": {},
   "outputs": [
    {
     "name": "stdout",
     "output_type": "stream",
     "text": [
      "       groups  ironmen\n",
      "0  Modern Web     59.0\n",
      "1      DevOps      9.0\n",
      "3    Big Data     14.0\n",
      "4    Security      6.0\n",
      "---\n",
      "       groups  ironmen\n",
      "0  Modern Web     59.0\n",
      "1      DevOps      9.0\n",
      "2           0     19.0\n",
      "3    Big Data     14.0\n",
      "4    Security      6.0\n",
      "5       自我挑戰組      0.0\n",
      "---\n",
      "       groups  ironmen\n",
      "0  Modern Web     59.0\n",
      "1      DevOps      9.0\n",
      "2       Cloud     19.0\n",
      "3    Big Data     14.0\n",
      "4    Security      6.0\n",
      "5       自我挑戰組     71.0\n"
     ]
    }
   ],
   "source": [
    "\n",
    "ironmen_df_na_dropped = ironmen_df.dropna() # 有遺失值的觀測值都刪除\n",
    "print(ironmen_df_na_dropped)\n",
    "print(\"---\") # 分隔線\n",
    "ironmen_df_na_filled = ironmen_df.fillna(0) # 有遺失值的觀測值填補 0\n",
    "print(ironmen_df_na_filled)\n",
    "print(\"---\") # 分隔線\n",
    "ironmen_df_na_filled = ironmen_df.fillna({\"groups\": \"Cloud\", \"ironmen\": 71}) # 依欄位填補遺失值\n",
    "print(ironmen_df_na_filled)"
   ]
  },
  {
   "cell_type": "code",
   "execution_count": 6,
   "metadata": {},
   "outputs": [
    {
     "data": {
      "text/html": [
       "<div>\n",
       "<style scoped>\n",
       "    .dataframe tbody tr th:only-of-type {\n",
       "        vertical-align: middle;\n",
       "    }\n",
       "\n",
       "    .dataframe tbody tr th {\n",
       "        vertical-align: top;\n",
       "    }\n",
       "\n",
       "    .dataframe thead th {\n",
       "        text-align: right;\n",
       "    }\n",
       "</style>\n",
       "<table border=\"1\" class=\"dataframe\">\n",
       "  <thead>\n",
       "    <tr style=\"text-align: right;\">\n",
       "      <th></th>\n",
       "      <th>ironmen</th>\n",
       "    </tr>\n",
       "  </thead>\n",
       "  <tbody>\n",
       "    <tr>\n",
       "      <td>Big Data</td>\n",
       "      <td>14</td>\n",
       "    </tr>\n",
       "    <tr>\n",
       "      <td>Cloud</td>\n",
       "      <td>19</td>\n",
       "    </tr>\n",
       "    <tr>\n",
       "      <td>DevOps</td>\n",
       "      <td>9</td>\n",
       "    </tr>\n",
       "    <tr>\n",
       "      <td>Modern Web</td>\n",
       "      <td>59</td>\n",
       "    </tr>\n",
       "    <tr>\n",
       "      <td>Security</td>\n",
       "      <td>6</td>\n",
       "    </tr>\n",
       "    <tr>\n",
       "      <td>自我挑戰組</td>\n",
       "      <td>77</td>\n",
       "    </tr>\n",
       "  </tbody>\n",
       "</table>\n",
       "</div>"
      ],
      "text/plain": [
       "            ironmen\n",
       "Big Data         14\n",
       "Cloud            19\n",
       "DevOps            9\n",
       "Modern Web       59\n",
       "Security          6\n",
       "自我挑戰組            77"
      ]
     },
     "execution_count": 6,
     "metadata": {},
     "output_type": "execute_result"
    }
   ],
   "source": [
    "import pandas as pd\n",
    "\n",
    "groups = [\"Modern Web\", \"DevOps\", \"Cloud\", \"Big Data\", \"Security\", \"自我挑戰組\"]\n",
    "ironmen = [59, 9, 19, 14, 6, 77]\n",
    "\n",
    "# 建立 data frame\n",
    "ironmen_df = pd.DataFrame(ironmen, columns = [\"ironmen\"], index = groups)\n",
    "\n",
    "# 用索引值排序\n",
    "ironmen_df.sort_index()"
   ]
  },
  {
   "cell_type": "code",
   "execution_count": 7,
   "metadata": {},
   "outputs": [
    {
     "data": {
      "text/html": [
       "<div>\n",
       "<style scoped>\n",
       "    .dataframe tbody tr th:only-of-type {\n",
       "        vertical-align: middle;\n",
       "    }\n",
       "\n",
       "    .dataframe tbody tr th {\n",
       "        vertical-align: top;\n",
       "    }\n",
       "\n",
       "    .dataframe thead th {\n",
       "        text-align: right;\n",
       "    }\n",
       "</style>\n",
       "<table border=\"1\" class=\"dataframe\">\n",
       "  <thead>\n",
       "    <tr style=\"text-align: right;\">\n",
       "      <th></th>\n",
       "      <th>ironmen</th>\n",
       "    </tr>\n",
       "  </thead>\n",
       "  <tbody>\n",
       "    <tr>\n",
       "      <td>Security</td>\n",
       "      <td>6</td>\n",
       "    </tr>\n",
       "    <tr>\n",
       "      <td>DevOps</td>\n",
       "      <td>9</td>\n",
       "    </tr>\n",
       "    <tr>\n",
       "      <td>Big Data</td>\n",
       "      <td>14</td>\n",
       "    </tr>\n",
       "    <tr>\n",
       "      <td>Cloud</td>\n",
       "      <td>19</td>\n",
       "    </tr>\n",
       "    <tr>\n",
       "      <td>Modern Web</td>\n",
       "      <td>59</td>\n",
       "    </tr>\n",
       "    <tr>\n",
       "      <td>自我挑戰組</td>\n",
       "      <td>77</td>\n",
       "    </tr>\n",
       "  </tbody>\n",
       "</table>\n",
       "</div>"
      ],
      "text/plain": [
       "            ironmen\n",
       "Security          6\n",
       "DevOps            9\n",
       "Big Data         14\n",
       "Cloud            19\n",
       "Modern Web       59\n",
       "自我挑戰組            77"
      ]
     },
     "execution_count": 7,
     "metadata": {},
     "output_type": "execute_result"
    }
   ],
   "source": [
    "import pandas as pd\n",
    "\n",
    "groups = [\"Modern Web\", \"DevOps\", \"Cloud\", \"Big Data\", \"Security\", \"自我挑戰組\"]\n",
    "ironmen = [59, 9, 19, 14, 6, 77]\n",
    "\n",
    "# 建立 data frame\n",
    "ironmen_df = pd.DataFrame(ironmen, columns = [\"ironmen\"], index = groups)\n",
    "\n",
    "# 用數值排序\n",
    "ironmen_df.sort_values(by = \"ironmen\")"
   ]
  },
  {
   "cell_type": "markdown",
   "metadata": {},
   "source": [
    "## iloc 利用索引來篩選資料\n",
    "## loc 利用label來篩選資料"
   ]
  },
  {
   "cell_type": "code",
   "execution_count": 12,
   "metadata": {},
   "outputs": [
    {
     "data": {
      "text/html": [
       "<div>\n",
       "<style scoped>\n",
       "    .dataframe tbody tr th:only-of-type {\n",
       "        vertical-align: middle;\n",
       "    }\n",
       "\n",
       "    .dataframe tbody tr th {\n",
       "        vertical-align: top;\n",
       "    }\n",
       "\n",
       "    .dataframe thead th {\n",
       "        text-align: right;\n",
       "    }\n",
       "</style>\n",
       "<table border=\"1\" class=\"dataframe\">\n",
       "  <thead>\n",
       "    <tr style=\"text-align: right;\">\n",
       "      <th></th>\n",
       "      <th>A</th>\n",
       "      <th>B</th>\n",
       "      <th>C</th>\n",
       "      <th>D</th>\n",
       "    </tr>\n",
       "  </thead>\n",
       "  <tbody>\n",
       "    <tr>\n",
       "      <td>a</td>\n",
       "      <td>0.663612</td>\n",
       "      <td>0.177470</td>\n",
       "      <td>0.108395</td>\n",
       "      <td>0.955972</td>\n",
       "    </tr>\n",
       "    <tr>\n",
       "      <td>b</td>\n",
       "      <td>0.174994</td>\n",
       "      <td>0.512726</td>\n",
       "      <td>0.626349</td>\n",
       "      <td>0.711719</td>\n",
       "    </tr>\n",
       "    <tr>\n",
       "      <td>c</td>\n",
       "      <td>0.014598</td>\n",
       "      <td>0.258493</td>\n",
       "      <td>0.075357</td>\n",
       "      <td>0.309096</td>\n",
       "    </tr>\n",
       "    <tr>\n",
       "      <td>d</td>\n",
       "      <td>0.383763</td>\n",
       "      <td>0.508353</td>\n",
       "      <td>0.586475</td>\n",
       "      <td>0.008443</td>\n",
       "    </tr>\n",
       "  </tbody>\n",
       "</table>\n",
       "</div>"
      ],
      "text/plain": [
       "          A         B         C         D\n",
       "a  0.663612  0.177470  0.108395  0.955972\n",
       "b  0.174994  0.512726  0.626349  0.711719\n",
       "c  0.014598  0.258493  0.075357  0.309096\n",
       "d  0.383763  0.508353  0.586475  0.008443"
      ]
     },
     "execution_count": 12,
     "metadata": {},
     "output_type": "execute_result"
    }
   ],
   "source": [
    "\n",
    "#  隨機生DataFrame 型別資料\n",
    "import pandas as pd\n",
    "import numpy as np\n",
    "frame = pd.DataFrame(np.random.rand(4,4),index=list('abcd'),columns=list('ABCD'))\n",
    "frame"
   ]
  },
  {
   "cell_type": "code",
   "execution_count": 9,
   "metadata": {},
   "outputs": [
    {
     "data": {
      "text/plain": [
       "0.13660766410768732"
      ]
     },
     "execution_count": 9,
     "metadata": {},
     "output_type": "execute_result"
    }
   ],
   "source": [
    "# 橫的叫列，直的叫欄\n",
    "#.loc先列後欄，中間用逗號（,）分割，例如取 a 和 A 對應的資料\n",
    "frame.loc['a','A']"
   ]
  },
  {
   "cell_type": "code",
   "execution_count": 10,
   "metadata": {},
   "outputs": [
    {
     "data": {
      "text/html": [
       "<div>\n",
       "<style scoped>\n",
       "    .dataframe tbody tr th:only-of-type {\n",
       "        vertical-align: middle;\n",
       "    }\n",
       "\n",
       "    .dataframe tbody tr th {\n",
       "        vertical-align: top;\n",
       "    }\n",
       "\n",
       "    .dataframe thead th {\n",
       "        text-align: right;\n",
       "    }\n",
       "</style>\n",
       "<table border=\"1\" class=\"dataframe\">\n",
       "  <thead>\n",
       "    <tr style=\"text-align: right;\">\n",
       "      <th></th>\n",
       "      <th>A</th>\n",
       "      <th>B</th>\n",
       "      <th>C</th>\n",
       "      <th>D</th>\n",
       "    </tr>\n",
       "  </thead>\n",
       "  <tbody>\n",
       "    <tr>\n",
       "      <td>a</td>\n",
       "      <td>0.136608</td>\n",
       "      <td>0.012332</td>\n",
       "      <td>0.594957</td>\n",
       "      <td>0.446828</td>\n",
       "    </tr>\n",
       "    <tr>\n",
       "      <td>b</td>\n",
       "      <td>0.019256</td>\n",
       "      <td>0.441723</td>\n",
       "      <td>0.467521</td>\n",
       "      <td>0.965401</td>\n",
       "    </tr>\n",
       "  </tbody>\n",
       "</table>\n",
       "</div>"
      ],
      "text/plain": [
       "          A         B         C         D\n",
       "a  0.136608  0.012332  0.594957  0.446828\n",
       "b  0.019256  0.441723  0.467521  0.965401"
      ]
     },
     "execution_count": 10,
     "metadata": {},
     "output_type": "execute_result"
    }
   ],
   "source": [
    "#取前兩行對應資料\n",
    "frame.loc['a':'b',:]"
   ]
  },
  {
   "cell_type": "code",
   "execution_count": 11,
   "metadata": {},
   "outputs": [
    {
     "data": {
      "text/html": [
       "<div>\n",
       "<style scoped>\n",
       "    .dataframe tbody tr th:only-of-type {\n",
       "        vertical-align: middle;\n",
       "    }\n",
       "\n",
       "    .dataframe tbody tr th {\n",
       "        vertical-align: top;\n",
       "    }\n",
       "\n",
       "    .dataframe thead th {\n",
       "        text-align: right;\n",
       "    }\n",
       "</style>\n",
       "<table border=\"1\" class=\"dataframe\">\n",
       "  <thead>\n",
       "    <tr style=\"text-align: right;\">\n",
       "      <th></th>\n",
       "      <th>A</th>\n",
       "      <th>B</th>\n",
       "    </tr>\n",
       "  </thead>\n",
       "  <tbody>\n",
       "    <tr>\n",
       "      <td>a</td>\n",
       "      <td>0.136608</td>\n",
       "      <td>0.012332</td>\n",
       "    </tr>\n",
       "    <tr>\n",
       "      <td>b</td>\n",
       "      <td>0.019256</td>\n",
       "      <td>0.441723</td>\n",
       "    </tr>\n",
       "    <tr>\n",
       "      <td>c</td>\n",
       "      <td>0.465270</td>\n",
       "      <td>0.605483</td>\n",
       "    </tr>\n",
       "    <tr>\n",
       "      <td>d</td>\n",
       "      <td>0.629113</td>\n",
       "      <td>0.801976</td>\n",
       "    </tr>\n",
       "  </tbody>\n",
       "</table>\n",
       "</div>"
      ],
      "text/plain": [
       "          A         B\n",
       "a  0.136608  0.012332\n",
       "b  0.019256  0.441723\n",
       "c  0.465270  0.605483\n",
       "d  0.629113  0.801976"
      ]
     },
     "execution_count": 11,
     "metadata": {},
     "output_type": "execute_result"
    }
   ],
   "source": [
    "# 取前兩欄對應資料\n",
    "frame.loc[:,'A':'B']"
   ]
  },
  {
   "cell_type": "code",
   "execution_count": 13,
   "metadata": {},
   "outputs": [
    {
     "data": {
      "text/html": [
       "<div>\n",
       "<style scoped>\n",
       "    .dataframe tbody tr th:only-of-type {\n",
       "        vertical-align: middle;\n",
       "    }\n",
       "\n",
       "    .dataframe tbody tr th {\n",
       "        vertical-align: top;\n",
       "    }\n",
       "\n",
       "    .dataframe thead th {\n",
       "        text-align: right;\n",
       "    }\n",
       "</style>\n",
       "<table border=\"1\" class=\"dataframe\">\n",
       "  <thead>\n",
       "    <tr style=\"text-align: right;\">\n",
       "      <th></th>\n",
       "      <th>A</th>\n",
       "      <th>D</th>\n",
       "    </tr>\n",
       "  </thead>\n",
       "  <tbody>\n",
       "    <tr>\n",
       "      <td>a</td>\n",
       "      <td>0.663612</td>\n",
       "      <td>0.955972</td>\n",
       "    </tr>\n",
       "    <tr>\n",
       "      <td>d</td>\n",
       "      <td>0.383763</td>\n",
       "      <td>0.008443</td>\n",
       "    </tr>\n",
       "  </tbody>\n",
       "</table>\n",
       "</div>"
      ],
      "text/plain": [
       "          A         D\n",
       "a  0.663612  0.955972\n",
       "d  0.383763  0.008443"
      ]
     },
     "execution_count": 13,
     "metadata": {},
     "output_type": "execute_result"
    }
   ],
   "source": [
    "# 上面的例子取的都是連續的列和欄，取第一列和第四列,與第一欄和第四欄對應的資料\n",
    "frame.loc[['a','d'],['A','D']]"
   ]
  },
  {
   "cell_type": "markdown",
   "metadata": {},
   "source": [
    "## iloc 基於行索引和列索引（index，columns） 都是從 0 開始"
   ]
  },
  {
   "cell_type": "code",
   "execution_count": 14,
   "metadata": {},
   "outputs": [
    {
     "data": {
      "text/plain": [
       "0.6636116690380219"
      ]
     },
     "execution_count": 14,
     "metadata": {},
     "output_type": "execute_result"
    }
   ],
   "source": [
    "\n",
    "frame.iloc[0,0]"
   ]
  },
  {
   "cell_type": "code",
   "execution_count": 15,
   "metadata": {},
   "outputs": [
    {
     "data": {
      "text/html": [
       "<div>\n",
       "<style scoped>\n",
       "    .dataframe tbody tr th:only-of-type {\n",
       "        vertical-align: middle;\n",
       "    }\n",
       "\n",
       "    .dataframe tbody tr th {\n",
       "        vertical-align: top;\n",
       "    }\n",
       "\n",
       "    .dataframe thead th {\n",
       "        text-align: right;\n",
       "    }\n",
       "</style>\n",
       "<table border=\"1\" class=\"dataframe\">\n",
       "  <thead>\n",
       "    <tr style=\"text-align: right;\">\n",
       "      <th></th>\n",
       "      <th>A</th>\n",
       "      <th>B</th>\n",
       "      <th>C</th>\n",
       "      <th>D</th>\n",
       "    </tr>\n",
       "  </thead>\n",
       "  <tbody>\n",
       "    <tr>\n",
       "      <td>a</td>\n",
       "      <td>0.663612</td>\n",
       "      <td>0.177470</td>\n",
       "      <td>0.108395</td>\n",
       "      <td>0.955972</td>\n",
       "    </tr>\n",
       "    <tr>\n",
       "      <td>b</td>\n",
       "      <td>0.174994</td>\n",
       "      <td>0.512726</td>\n",
       "      <td>0.626349</td>\n",
       "      <td>0.711719</td>\n",
       "    </tr>\n",
       "  </tbody>\n",
       "</table>\n",
       "</div>"
      ],
      "text/plain": [
       "          A         B         C         D\n",
       "a  0.663612  0.177470  0.108395  0.955972\n",
       "b  0.174994  0.512726  0.626349  0.711719"
      ]
     },
     "execution_count": 15,
     "metadata": {},
     "output_type": "execute_result"
    }
   ],
   "source": [
    "# 取前兩列對應資料\n",
    "frame.iloc[0:2,:]"
   ]
  },
  {
   "cell_type": "code",
   "execution_count": 16,
   "metadata": {},
   "outputs": [
    {
     "data": {
      "text/html": [
       "<div>\n",
       "<style scoped>\n",
       "    .dataframe tbody tr th:only-of-type {\n",
       "        vertical-align: middle;\n",
       "    }\n",
       "\n",
       "    .dataframe tbody tr th {\n",
       "        vertical-align: top;\n",
       "    }\n",
       "\n",
       "    .dataframe thead th {\n",
       "        text-align: right;\n",
       "    }\n",
       "</style>\n",
       "<table border=\"1\" class=\"dataframe\">\n",
       "  <thead>\n",
       "    <tr style=\"text-align: right;\">\n",
       "      <th></th>\n",
       "      <th>A</th>\n",
       "      <th>B</th>\n",
       "    </tr>\n",
       "  </thead>\n",
       "  <tbody>\n",
       "    <tr>\n",
       "      <td>a</td>\n",
       "      <td>0.663612</td>\n",
       "      <td>0.177470</td>\n",
       "    </tr>\n",
       "    <tr>\n",
       "      <td>b</td>\n",
       "      <td>0.174994</td>\n",
       "      <td>0.512726</td>\n",
       "    </tr>\n",
       "  </tbody>\n",
       "</table>\n",
       "</div>"
      ],
      "text/plain": [
       "          A         B\n",
       "a  0.663612  0.177470\n",
       "b  0.174994  0.512726"
      ]
     },
     "execution_count": 16,
     "metadata": {},
     "output_type": "execute_result"
    }
   ],
   "source": [
    "# 取前兩列和前兩欄對應資料\n",
    "frame.iloc[0:2,0:2]"
   ]
  },
  {
   "cell_type": "code",
   "execution_count": 17,
   "metadata": {},
   "outputs": [
    {
     "data": {
      "text/html": [
       "<div>\n",
       "<style scoped>\n",
       "    .dataframe tbody tr th:only-of-type {\n",
       "        vertical-align: middle;\n",
       "    }\n",
       "\n",
       "    .dataframe tbody tr th {\n",
       "        vertical-align: top;\n",
       "    }\n",
       "\n",
       "    .dataframe thead th {\n",
       "        text-align: right;\n",
       "    }\n",
       "</style>\n",
       "<table border=\"1\" class=\"dataframe\">\n",
       "  <thead>\n",
       "    <tr style=\"text-align: right;\">\n",
       "      <th></th>\n",
       "      <th>A</th>\n",
       "      <th>D</th>\n",
       "    </tr>\n",
       "  </thead>\n",
       "  <tbody>\n",
       "    <tr>\n",
       "      <td>a</td>\n",
       "      <td>0.663612</td>\n",
       "      <td>0.955972</td>\n",
       "    </tr>\n",
       "    <tr>\n",
       "      <td>d</td>\n",
       "      <td>0.383763</td>\n",
       "      <td>0.008443</td>\n",
       "    </tr>\n",
       "  </tbody>\n",
       "</table>\n",
       "</div>"
      ],
      "text/plain": [
       "          A         D\n",
       "a  0.663612  0.955972\n",
       "d  0.383763  0.008443"
      ]
     },
     "execution_count": 17,
     "metadata": {},
     "output_type": "execute_result"
    }
   ],
   "source": [
    "#上面的例子取的都是連續的行和列，若取第一行和第四行、第一列和第四列對應的資料，則\n",
    "frame.iloc[[0,3],[0,3]]"
   ]
  },
  {
   "cell_type": "code",
   "execution_count": null,
   "metadata": {},
   "outputs": [],
   "source": []
  }
 ],
 "metadata": {
  "kernelspec": {
   "display_name": "Python 3",
   "language": "python",
   "name": "python3"
  },
  "language_info": {
   "codemirror_mode": {
    "name": "ipython",
    "version": 3
   },
   "file_extension": ".py",
   "mimetype": "text/x-python",
   "name": "python",
   "nbconvert_exporter": "python",
   "pygments_lexer": "ipython3",
   "version": "3.7.4"
  }
 },
 "nbformat": 4,
 "nbformat_minor": 2
}
